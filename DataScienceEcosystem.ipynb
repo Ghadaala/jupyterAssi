{
 "cells": [
  {
   "cell_type": "markdown",
   "id": "2b7c248f-65dc-45da-99d9-b069fe0c49cd",
   "metadata": {},
   "source": [
    "# Data Science Tools and  Ecosystem "
   ]
  },
  {
   "cell_type": "markdown",
   "id": "7c37ef7b-c6d6-4cbb-8b46-824a6329cdd5",
   "metadata": {},
   "source": [
    "In this notebook ; You will find a summary  Data Science and it's Ecosystem."
   ]
  },
  {
   "cell_type": "markdown",
   "id": "261a67c1-368b-47ef-8943-2be0d8b03d58",
   "metadata": {},
   "source": [
    "## Objectives"
   ]
  },
  {
   "cell_type": "markdown",
   "id": "9d633889-4fe8-4d99-a31f-a4e7320afb88",
   "metadata": {},
   "source": [
    "1. Data Science Languages\n",
    "2. Data Science Libraries\n",
    "3. Data Science Tools\n",
    "4. Samples for activity expressions in Python"
   ]
  },
  {
   "cell_type": "markdown",
   "id": "a6cc5614-7c9d-48de-81b5-67f491b0266e",
   "metadata": {},
   "source": [
    "These are some of the programming languages used for data science activities:"
   ]
  },
  {
   "cell_type": "markdown",
   "id": "af33bb7a-eab4-4654-a723-60d80308836d",
   "metadata": {},
   "source": [
    "1. Python\n",
    "2. c++\n",
    "3. JAVA\n",
    "4. SQL"
   ]
  },
  {
   "cell_type": "markdown",
   "id": "8523097e-bb39-47b3-9f9e-daf8af3247b4",
   "metadata": {},
   "source": [
    "These are some types of libraries used in data science"
   ]
  },
  {
   "cell_type": "markdown",
   "id": "ae639b53-c37d-4d22-a6ff-5b5494055ffc",
   "metadata": {},
   "source": [
    "1. Pandas\n",
    "2. NumPy\n",
    "3. MatplotLib"
   ]
  },
  {
   "cell_type": "markdown",
   "id": "d09091d1-c066-4969-8156-96f4d7f0bfc6",
   "metadata": {},
   "source": [
    "| Data Scince Tools|\n",
    "|------------------|\n",
    "|Jupyter |\n",
    "|RStudio |\n",
    "|Spyder|"
   ]
  },
  {
   "cell_type": "markdown",
   "id": "269f3bc3-17a1-4445-a9ae-1e6f0e385aaf",
   "metadata": {},
   "source": [
    "### Below you will find samples for activity expressions in Python."
   ]
  },
  {
   "cell_type": "code",
   "execution_count": 3,
   "id": "5e9d0edf-4840-4550-bd1f-8b842f60591c",
   "metadata": {},
   "outputs": [
    {
     "data": {
      "text/plain": [
       "17"
      ]
     },
     "execution_count": 3,
     "metadata": {},
     "output_type": "execute_result"
    }
   ],
   "source": [
    "#Calculate the following expression; Mutiplication then addition\n",
    "\n",
    "(3*4)+5"
   ]
  },
  {
   "cell_type": "code",
   "execution_count": 7,
   "id": "15afe069-1547-4310-93fa-bd0eda9f07cb",
   "metadata": {},
   "outputs": [
    {
     "name": "stdout",
     "output_type": "stream",
     "text": [
      "3.3333333333333335\n"
     ]
    }
   ],
   "source": [
    "# Convert 200 minutes to hours; dividing by 60\n",
    "hours = 200/60\n",
    "print(hours)"
   ]
  },
  {
   "cell_type": "markdown",
   "id": "0bf58339-2f67-448b-8496-81e883943030",
   "metadata": {},
   "source": [
    "## Author\n",
    "Ghada ALAmoudi"
   ]
  }
 ],
 "metadata": {
  "kernelspec": {
   "display_name": "Python 3 (ipykernel)",
   "language": "python",
   "name": "python3"
  },
  "language_info": {
   "codemirror_mode": {
    "name": "ipython",
    "version": 3
   },
   "file_extension": ".py",
   "mimetype": "text/x-python",
   "name": "python",
   "nbconvert_exporter": "python",
   "pygments_lexer": "ipython3",
   "version": "3.12.3"
  }
 },
 "nbformat": 4,
 "nbformat_minor": 5
}
